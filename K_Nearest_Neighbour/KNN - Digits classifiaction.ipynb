{
 "cells": [
  {
   "cell_type": "code",
   "execution_count": 1,
   "metadata": {},
   "outputs": [],
   "source": [
    "import pandas as pd\n",
    "import numpy as np\n",
    "import matplotlib.pyplot as plt\n",
    "import seaborn as sns\n",
    "%matplotlib inline"
   ]
  },
  {
   "cell_type": "code",
   "execution_count": 2,
   "metadata": {},
   "outputs": [],
   "source": [
    "from sklearn.datasets import load_digits\n",
    "dataset=load_digits()"
   ]
  },
  {
   "cell_type": "code",
   "execution_count": 3,
   "metadata": {},
   "outputs": [
    {
     "data": {
      "text/plain": [
       "dict_keys(['data', 'target', 'target_names', 'images', 'DESCR'])"
      ]
     },
     "execution_count": 3,
     "metadata": {},
     "output_type": "execute_result"
    }
   ],
   "source": [
    "dataset.keys()"
   ]
  },
  {
   "cell_type": "code",
   "execution_count": 4,
   "metadata": {},
   "outputs": [
    {
     "data": {
      "text/plain": [
       "array([[ 0.,  0.,  5., ...,  0.,  0.,  0.],\n",
       "       [ 0.,  0.,  0., ..., 10.,  0.,  0.],\n",
       "       [ 0.,  0.,  0., ..., 16.,  9.,  0.],\n",
       "       ...,\n",
       "       [ 0.,  0.,  1., ...,  6.,  0.,  0.],\n",
       "       [ 0.,  0.,  2., ..., 12.,  0.,  0.],\n",
       "       [ 0.,  0., 10., ..., 12.,  1.,  0.]])"
      ]
     },
     "execution_count": 4,
     "metadata": {},
     "output_type": "execute_result"
    }
   ],
   "source": [
    "dataset.data"
   ]
  },
  {
   "cell_type": "code",
   "execution_count": 5,
   "metadata": {},
   "outputs": [
    {
     "data": {
      "text/plain": [
       "array([0, 1, 2, ..., 8, 9, 8])"
      ]
     },
     "execution_count": 5,
     "metadata": {},
     "output_type": "execute_result"
    }
   ],
   "source": [
    "dataset.target"
   ]
  },
  {
   "cell_type": "code",
   "execution_count": 6,
   "metadata": {},
   "outputs": [
    {
     "data": {
      "text/plain": [
       "array([0, 1, 2, 3, 4, 5, 6, 7, 8, 9])"
      ]
     },
     "execution_count": 6,
     "metadata": {},
     "output_type": "execute_result"
    }
   ],
   "source": [
    "dataset.target_names"
   ]
  },
  {
   "cell_type": "code",
   "execution_count": 7,
   "metadata": {},
   "outputs": [
    {
     "data": {
      "text/plain": [
       "1797"
      ]
     },
     "execution_count": 7,
     "metadata": {},
     "output_type": "execute_result"
    }
   ],
   "source": [
    "len(dataset.data)"
   ]
  },
  {
   "cell_type": "code",
   "execution_count": 9,
   "metadata": {},
   "outputs": [],
   "source": [
    "x=dataset.data[:-1]\n",
    "y=dataset.target[:-1]"
   ]
  },
  {
   "cell_type": "code",
   "execution_count": 10,
   "metadata": {},
   "outputs": [],
   "source": [
    "from sklearn.model_selection import train_test_split\n",
    "x_train,x_test,y_train,y_test=train_test_split(x,y,test_size=0.3,random_state=1)"
   ]
  },
  {
   "cell_type": "code",
   "execution_count": 11,
   "metadata": {},
   "outputs": [
    {
     "data": {
      "text/plain": [
       "KNeighborsClassifier(algorithm='auto', leaf_size=30, metric='minkowski',\n",
       "           metric_params=None, n_jobs=1, n_neighbors=5, p=2,\n",
       "           weights='uniform')"
      ]
     },
     "execution_count": 11,
     "metadata": {},
     "output_type": "execute_result"
    }
   ],
   "source": [
    "from sklearn.neighbors import KNeighborsClassifier\n",
    "knn = KNeighborsClassifier()\n",
    "knn.fit(x_train, y_train)"
   ]
  },
  {
   "cell_type": "code",
   "execution_count": 12,
   "metadata": {},
   "outputs": [
    {
     "data": {
      "text/plain": [
       "array([0, 9, 2, 3, 6, 7, 8, 9, 9, 1, 3, 9, 1, 0, 1, 0, 0, 5, 0, 3, 2, 1,\n",
       "       1, 1, 8, 1, 6, 5, 0, 6, 8, 4, 0, 7, 2, 2, 0, 9, 5, 5, 3, 4, 9, 5,\n",
       "       0, 1, 5, 3, 0, 4, 4, 5, 1, 5, 6, 2, 8, 8, 2, 2, 8, 4, 2, 0, 3, 6,\n",
       "       9, 8, 9, 3, 3, 4, 2, 2, 7, 2, 7, 4, 1, 9, 7, 4, 0, 8, 0, 9, 2, 1,\n",
       "       1, 2, 6, 6, 0, 3, 3, 2, 3, 9, 5, 2, 4, 0, 4, 2, 9, 9, 5, 9, 1, 1,\n",
       "       9, 2, 7, 6, 6, 2, 2, 2, 6, 9, 5, 0, 1, 1, 4, 2, 3, 8, 6, 0, 3, 6,\n",
       "       6, 9, 9, 7, 2, 7, 3, 0, 5, 5, 9, 3, 6, 4, 4, 1, 2, 3, 3, 6, 9, 1,\n",
       "       1, 3, 8, 3, 1, 0, 6, 4, 5, 1, 7, 1, 7, 0, 7, 9, 3, 8, 5, 9, 4, 1,\n",
       "       8, 0, 8, 3, 4, 8, 4, 3, 9, 3, 2, 9, 1, 0, 6, 7, 8, 1, 0, 8, 3, 9,\n",
       "       9, 0, 6, 2, 1, 7, 6, 2, 9, 2, 5, 9, 0, 8, 8, 2, 6, 6, 8, 3, 3, 5,\n",
       "       2, 4, 4, 4, 4, 3, 3, 5, 3, 4, 8, 4, 8, 3, 7, 1, 1, 9, 3, 3, 1, 1,\n",
       "       8, 8, 4, 5, 9, 9, 5, 7, 5, 4, 3, 8, 1, 1, 5, 0, 9, 2, 3, 0, 6, 9,\n",
       "       5, 4, 7, 5, 9, 1, 8, 2, 8, 5, 5, 8, 0, 8, 1, 9, 0, 2, 1, 5, 0, 1,\n",
       "       2, 9, 4, 7, 6, 3, 7, 9, 5, 1, 4, 9, 0, 9, 9, 3, 3, 1, 0, 0, 0, 0,\n",
       "       0, 2, 5, 9, 6, 3, 3, 9, 6, 2, 0, 0, 6, 9, 7, 2, 8, 7, 1, 0, 8, 8,\n",
       "       8, 6, 3, 8, 3, 0, 7, 8, 2, 7, 7, 6, 9, 8, 7, 7, 7, 1, 3, 9, 9, 5,\n",
       "       7, 9, 4, 5, 5, 7, 2, 1, 9, 7, 5, 1, 0, 5, 6, 7, 1, 9, 2, 5, 2, 9,\n",
       "       6, 3, 2, 7, 1, 3, 0, 4, 9, 9, 6, 4, 6, 7, 6, 2, 3, 5, 0, 6, 8, 2,\n",
       "       7, 5, 2, 7, 0, 7, 5, 7, 7, 6, 7, 3, 0, 2, 2, 6, 4, 3, 0, 2, 8, 2,\n",
       "       6, 0, 4, 8, 6, 7, 7, 9, 4, 4, 7, 0, 2, 3, 7, 0, 9, 3, 2, 9, 9, 9,\n",
       "       5, 1, 8, 3, 7, 0, 5, 4, 6, 3, 2, 1, 1, 6, 2, 0, 6, 3, 4, 7, 2, 3,\n",
       "       8, 0, 3, 2, 2, 8, 8, 4, 1, 3, 6, 1, 4, 9, 6, 8, 9, 4, 5, 1, 9, 7,\n",
       "       4, 6, 1, 6, 6, 3, 6, 3, 9, 9, 0, 1, 7, 5, 1, 2, 5, 0, 9, 5, 7, 8,\n",
       "       5, 8, 9, 4, 3, 6, 5, 9, 2, 7, 0, 2, 3, 5, 7, 7, 3, 4, 5, 7, 4, 5,\n",
       "       5, 4, 6, 8, 7, 8, 0, 5, 4, 0, 0])"
      ]
     },
     "execution_count": 12,
     "metadata": {},
     "output_type": "execute_result"
    }
   ],
   "source": [
    "y_pred=knn.predict(x_test)\n",
    "y_pred"
   ]
  },
  {
   "cell_type": "code",
   "execution_count": 13,
   "metadata": {},
   "outputs": [
    {
     "name": "stdout",
     "output_type": "stream",
     "text": [
      "Accuracy on the testing subset: 0.981\n",
      "Accuracy on the training subset: 0.990\n"
     ]
    }
   ],
   "source": [
    "from sklearn.metrics import accuracy_score, confusion_matrix, classification_report\n",
    "test_score=accuracy_score(y_pred,y_test)\n",
    "print('Accuracy on the testing subset: {:.3f}'.format(test_score))\n",
    "train_score=knn.score(x_train,y_train)\n",
    "print('Accuracy on the training subset: {:.3f}'.format(train_score))"
   ]
  },
  {
   "cell_type": "code",
   "execution_count": 14,
   "metadata": {},
   "outputs": [
    {
     "data": {
      "text/html": [
       "<div>\n",
       "<style scoped>\n",
       "    .dataframe tbody tr th:only-of-type {\n",
       "        vertical-align: middle;\n",
       "    }\n",
       "\n",
       "    .dataframe tbody tr th {\n",
       "        vertical-align: top;\n",
       "    }\n",
       "\n",
       "    .dataframe thead th {\n",
       "        text-align: right;\n",
       "    }\n",
       "</style>\n",
       "<table border=\"1\" class=\"dataframe\">\n",
       "  <thead>\n",
       "    <tr style=\"text-align: right;\">\n",
       "      <th></th>\n",
       "      <th>Actual</th>\n",
       "      <th>Predicted</th>\n",
       "    </tr>\n",
       "  </thead>\n",
       "  <tbody>\n",
       "    <tr>\n",
       "      <th>0</th>\n",
       "      <td>0</td>\n",
       "      <td>0</td>\n",
       "    </tr>\n",
       "    <tr>\n",
       "      <th>1</th>\n",
       "      <td>9</td>\n",
       "      <td>9</td>\n",
       "    </tr>\n",
       "    <tr>\n",
       "      <th>2</th>\n",
       "      <td>2</td>\n",
       "      <td>2</td>\n",
       "    </tr>\n",
       "    <tr>\n",
       "      <th>3</th>\n",
       "      <td>3</td>\n",
       "      <td>3</td>\n",
       "    </tr>\n",
       "    <tr>\n",
       "      <th>4</th>\n",
       "      <td>6</td>\n",
       "      <td>6</td>\n",
       "    </tr>\n",
       "  </tbody>\n",
       "</table>\n",
       "</div>"
      ],
      "text/plain": [
       "   Actual  Predicted\n",
       "0       0          0\n",
       "1       9          9\n",
       "2       2          2\n",
       "3       3          3\n",
       "4       6          6"
      ]
     },
     "execution_count": 14,
     "metadata": {},
     "output_type": "execute_result"
    }
   ],
   "source": [
    "df = pd.DataFrame({'Actual': y_test, 'Predicted': y_pred})  \n",
    "df.head()"
   ]
  },
  {
   "cell_type": "code",
   "execution_count": 15,
   "metadata": {},
   "outputs": [
    {
     "name": "stdout",
     "output_type": "stream",
     "text": [
      "[[58  0  0  0  0  0  0  0  0  0]\n",
      " [ 0 51  0  0  0  0  0  0  0  0]\n",
      " [ 0  0 58  0  0  0  0  0  0  0]\n",
      " [ 0  0  0 59  0  0  0  1  0  0]\n",
      " [ 0  0  0  0 46  0  0  0  1  0]\n",
      " [ 0  0  0  0  0 51  1  0  0  1]\n",
      " [ 0  0  0  0  0  0 48  0  0  0]\n",
      " [ 0  0  0  0  0  0  0 50  0  0]\n",
      " [ 0  1  0  1  0  0  0  1 44  0]\n",
      " [ 0  1  0  0  0  0  0  0  2 64]]\n"
     ]
    }
   ],
   "source": [
    "cm = confusion_matrix(y_test,y_pred)\n",
    "print(cm)"
   ]
  },
  {
   "cell_type": "code",
   "execution_count": 16,
   "metadata": {},
   "outputs": [
    {
     "data": {
      "image/png": "[encoded data removed]",
      "text/plain": [
       "<matplotlib.figure.Figure at 0x13ce9a3ecf8>"
      ]
     },
     "metadata": {},
     "output_type": "display_data"
    }
   ],
   "source": [
    "plt.figure(figsize=(9,9))\n",
    "sns.heatmap(cm, annot=True, fmt=\".3f\", linewidths=.5, square = True, cmap = 'Blues_r');\n",
    "plt.ylabel('Actual label');\n",
    "plt.xlabel('Predicted label');\n",
    "title = 'Accuracy Score: {0}'.format(test_score)\n",
    "plt.title(title, size = 15);"
   ]
  },
  {
   "cell_type": "code",
   "execution_count": 17,
   "metadata": {},
   "outputs": [
    {
     "name": "stdout",
     "output_type": "stream",
     "text": [
      "Classification Report\n",
      "             precision    recall  f1-score   support\n",
      "\n",
      "          1       0.96      1.00      0.98        51\n",
      "          0       1.00      1.00      1.00        58\n",
      "\n",
      "avg / total       0.98      1.00      0.99       109\n",
      "\n"
     ]
    }
   ],
   "source": [
    "print(\"Classification Report\")\n",
    "clr=classification_report(y_test, y_pred, labels=[1, 0])\n",
    "print(clr)"
   ]
  },
  {
   "cell_type": "code",
   "execution_count": null,
   "metadata": {},
   "outputs": [],
   "source": []
  }
 ],
 "metadata": {
  "kernelspec": {
   "display_name": "Python 3",
   "language": "python",
   "name": "python3"
  },
  "language_info": {
   "codemirror_mode": {
    "name": "ipython",
    "version": 3
   },
   "file_extension": ".py",
   "mimetype": "text/x-python",
   "name": "python",
   "nbconvert_exporter": "python",
   "pygments_lexer": "ipython3",
   "version": "3.6.4"
  }
 },
 "nbformat": 4,
 "nbformat_minor": 2
}
